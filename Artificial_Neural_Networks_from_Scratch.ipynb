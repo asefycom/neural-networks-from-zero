{
  "nbformat": 4,
  "nbformat_minor": 0,
  "metadata": {
    "colab": {
      "name": "Artificial-Neural-Networks-from-Scratch.ipynb",
      "provenance": [],
      "collapsed_sections": [
        "vUm3xWxwwAMP"
      ],
      "authorship_tag": "ABX9TyOsNa/KfC+6WeRShwze5fbU",
      "include_colab_link": true
    },
    "kernelspec": {
      "name": "python3",
      "display_name": "Python 3"
    },
    "language_info": {
      "name": "python"
    }
  },
  "cells": [
    {
      "cell_type": "markdown",
      "metadata": {
        "id": "view-in-github",
        "colab_type": "text"
      },
      "source": [
        "<a href=\"https://colab.research.google.com/github/mostafa-asefy/neural-networks-from-zero/blob/main/Artificial_Neural_Networks_from_Scratch.ipynb\" target=\"_parent\"><img src=\"https://colab.research.google.com/assets/colab-badge.svg\" alt=\"Open In Colab\"/></a>"
      ]
    },
    {
      "cell_type": "markdown",
      "metadata": {
        "id": "I7kGy9IxRlIl"
      },
      "source": [
        "# Neural Network Class Definition"
      ]
    },
    {
      "cell_type": "code",
      "metadata": {
        "id": "-K47Tsf-RzFI"
      },
      "source": [
        "import numpy as np\n",
        "from scipy.special import expit\n",
        "\n",
        "\n",
        "class NeuralNetwork:\n",
        "\n",
        "    # initialize the neural network \n",
        "    def __init__(self, input_nodes, hidden_nodes, output_nodes, learning_rate):\n",
        "        # set number of nodes in input, hidden and output layers\n",
        "        self.input_nodes = input_nodes\n",
        "        self.hidden_nodes = hidden_nodes\n",
        "        self.output_nodes = output_nodes\n",
        "\n",
        "        # set the learning rate\n",
        "        self.learning_rate = learning_rate\n",
        "\n",
        "        self.activation_function = lambda x : expit(x)\n",
        "\n",
        "        # link weight matrices, w_input_hidden and w_hidden_output\n",
        "        # weights inside the arrays are w_i_j, where link is from node \n",
        "        # i to node j in the next layer\n",
        "        # w11 w21\n",
        "        # w12 w22 etc\n",
        "        # self.w_i_h = np.random.rand(self.hidden_nodes, self.input_nodes) - 0.5\n",
        "        self.w_i_h = np.random.default_rng().normal(0, pow(self.input_nodes, -0.5),\n",
        "                                                    (self.hidden_nodes, self.input_nodes))\n",
        "        # self.w_h_o = np.random.rand(self.output_nodes, self.hidden_nodes) - 0.5\n",
        "        self.w_h_o = np.random.default_rng().normal(0, pow(self.hidden_nodes, -0.5),\n",
        "                                                    (self.output_nodes, self.hidden_nodes))\n",
        "        pass\n",
        "\n",
        "    # train the neural network\n",
        "    def train():\n",
        "        pass\n",
        "\n",
        "    # query the neural network\n",
        "    def query(self, input_list):\n",
        "        inputs = np.array(input_list, ndmin=2).T\n",
        "\n",
        "        x_hidden = np.dot(self.w_i_h, inputs)\n",
        "        o_hidden = self.activation_function(x_hidden) \n",
        "\n",
        "        x_output = np.dot(self.w_h_o, o_hidden)\n",
        "        o_output = self.activation_function(x_output)\n",
        "\n",
        "        return o_output\n"
      ],
      "execution_count": 8,
      "outputs": []
    },
    {
      "cell_type": "markdown",
      "metadata": {
        "id": "vUm3xWxwwAMP"
      },
      "source": [
        "# Neural Network Instance Creation"
      ]
    },
    {
      "cell_type": "code",
      "metadata": {
        "colab": {
          "base_uri": "https://localhost:8080/"
        },
        "id": "nezWXnH1wEAg",
        "outputId": "2a0126db-b4a4-47c5-f6cf-5530a4456311"
      },
      "source": [
        "nn = NeuralNetwork(3, 3, 3, 0.3)\n",
        "print(nn.w_i_h)\n",
        "nn.query([1, 2, 3])"
      ],
      "execution_count": 10,
      "outputs": [
        {
          "output_type": "stream",
          "name": "stdout",
          "text": [
            "[[-0.01403313 -0.22704182 -0.80838127]\n",
            " [-0.33207051  0.71597451  0.75153626]\n",
            " [-0.94717473  0.26076063  0.18716868]]\n"
          ]
        },
        {
          "output_type": "execute_result",
          "data": {
            "text/plain": [
              "array([[0.5867502 ],\n",
              "       [0.23209043],\n",
              "       [0.58561182]])"
            ]
          },
          "metadata": {},
          "execution_count": 10
        }
      ]
    }
  ]
}