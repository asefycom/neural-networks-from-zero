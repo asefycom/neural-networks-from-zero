{
  "nbformat": 4,
  "nbformat_minor": 0,
  "metadata": {
    "colab": {
      "name": "Artificial-Neural-Networks-from-Scratch.ipynb",
      "provenance": [],
      "collapsed_sections": [],
      "authorship_tag": "ABX9TyMvnevKiV1jszLqBIXL8shH",
      "include_colab_link": true
    },
    "kernelspec": {
      "name": "python3",
      "display_name": "Python 3"
    },
    "language_info": {
      "name": "python"
    }
  },
  "cells": [
    {
      "cell_type": "markdown",
      "metadata": {
        "id": "view-in-github",
        "colab_type": "text"
      },
      "source": [
        "<a href=\"https://colab.research.google.com/github/mostafa-asefy/neural-networks-from-zero/blob/main/Artificial_Neural_Networks_from_Scratch.ipynb\" target=\"_parent\"><img src=\"https://colab.research.google.com/assets/colab-badge.svg\" alt=\"Open In Colab\"/></a>"
      ]
    },
    {
      "cell_type": "markdown",
      "metadata": {
        "id": "I7kGy9IxRlIl"
      },
      "source": [
        "# Neural Network Class Definition"
      ]
    },
    {
      "cell_type": "code",
      "metadata": {
        "id": "-K47Tsf-RzFI"
      },
      "source": [
        "import numpy as np\n",
        "\n",
        "\n",
        "class NeuralNetwork:\n",
        "\n",
        "    # initialize the neural network \n",
        "    def __init__(self, input_nodes, hidden_nodes, output_nodes, learning_rate):\n",
        "        # set number of nodes in input, hidden and output layers\n",
        "        self.input_nodes = input_nodes\n",
        "        self.hidden_nodes = hidden_nodes\n",
        "        self.output_nodes = output_nodes\n",
        "\n",
        "        # set the learning rate\n",
        "        self.learning_rate = learning_rate\n",
        "\n",
        "        # link weight matrices, w_input_hidden and w_hidden_output\n",
        "        # weights inside the arrays are w_i_j, where link is from node \n",
        "        # i to node j in the next layer\n",
        "        # w11 w21\n",
        "        # w12 w22 etc\n",
        "        self.w_i_h = np.random.rand(self.hidden_nodes, self.input_nodes) - 0.5\n",
        "        self.w_h_o = np.random.rand(self.output_nodes, self.hidden_nodes) - 0.5\n",
        "        pass\n",
        "\n",
        "    # train the neural network\n",
        "    def train():\n",
        "        pass\n",
        "\n",
        "    # query the neural network\n",
        "    def query():\n",
        "        pass"
      ],
      "execution_count": 16,
      "outputs": []
    },
    {
      "cell_type": "markdown",
      "metadata": {
        "id": "vUm3xWxwwAMP"
      },
      "source": [
        "# Neural Network Instance Creation"
      ]
    },
    {
      "cell_type": "code",
      "metadata": {
        "colab": {
          "base_uri": "https://localhost:8080/"
        },
        "id": "nezWXnH1wEAg",
        "outputId": "d989f8f8-7ff9-44f7-e1aa-b4bdd582fc3c"
      },
      "source": [
        "nn = NeuralNetwork(3, 3, 3, 0.3)\n",
        "print(nn.w_i_h)"
      ],
      "execution_count": 17,
      "outputs": [
        {
          "output_type": "stream",
          "name": "stdout",
          "text": [
            "[[ 0.08022783  0.32007052 -0.44493165]\n",
            " [-0.15973388 -0.499542   -0.24130081]\n",
            " [ 0.13126193 -0.48995979 -0.39662463]]\n"
          ]
        }
      ]
    }
  ]
}