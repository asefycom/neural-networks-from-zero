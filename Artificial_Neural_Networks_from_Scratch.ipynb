{
  "nbformat": 4,
  "nbformat_minor": 0,
  "metadata": {
    "colab": {
      "name": "Artificial-Neural-Networks-from-Scratch.ipynb",
      "provenance": [],
      "collapsed_sections": [],
      "authorship_tag": "ABX9TyPdZW/+s+T3bWGOlLPou5V1",
      "include_colab_link": true
    },
    "kernelspec": {
      "name": "python3",
      "display_name": "Python 3"
    },
    "language_info": {
      "name": "python"
    },
    "accelerator": "GPU"
  },
  "cells": [
    {
      "cell_type": "markdown",
      "metadata": {
        "id": "view-in-github",
        "colab_type": "text"
      },
      "source": [
        "<a href=\"https://colab.research.google.com/github/mostafa-asefy/neural-networks-from-zero/blob/main/Artificial_Neural_Networks_from_Scratch.ipynb\" target=\"_parent\"><img src=\"https://colab.research.google.com/assets/colab-badge.svg\" alt=\"Open In Colab\"/></a>"
      ]
    },
    {
      "cell_type": "markdown",
      "metadata": {
        "id": "I7kGy9IxRlIl"
      },
      "source": [
        "# Neural Network Class Definition"
      ]
    },
    {
      "cell_type": "code",
      "metadata": {
        "id": "-K47Tsf-RzFI"
      },
      "source": [
        "import numpy as np\n",
        "from scipy.special import expit\n",
        "import matplotlib.pyplot as plt\n",
        "\n",
        "\n",
        "class NeuralNetwork:\n",
        "\n",
        "    # راه اندازی شبکه عصبی \n",
        "    def __init__(self, input_nodes, hidden_nodes, output_nodes, learning_rate):\n",
        "        # تعیین تعداد نورون‌های لایه‌های مختلف\n",
        "        self.input_nodes = input_nodes\n",
        "        self.hidden_nodes = hidden_nodes\n",
        "        self.output_nodes = output_nodes\n",
        "\n",
        "        # تعیین نرخ یادگیری\n",
        "        self.learning_rate = learning_rate\n",
        "        \n",
        "        # ایجاد تابع فعال سازی که اینجا سیگموییدی است ولی می تواند متفاوت باشد\n",
        "        self.activation_function = lambda x : expit(x)\n",
        "\n",
        "        # ایجاد دو ماتریس وزن‌های اولیه\n",
        "        # یکی برای وزن‌های بین لایه ورودی و مخفی و یکی برای وزن‌های بین لایه مخفی و خروجی \n",
        "        # هر وزن با ایندکس آی و جی، وزن اتصال بین نورون آی از لایه مبدا به نورون جی در لایه مقصد است.\n",
        "        #  و به همین ترتیب w12 w21 مثلا\n",
        "        self.w_i_h = np.random.default_rng().normal(0, pow(self.input_nodes, -0.5),\n",
        "                                                    (self.hidden_nodes, self.input_nodes))\n",
        "        self.w_h_o = np.random.default_rng().normal(0, pow(self.hidden_nodes, -0.5),\n",
        "                                                    (self.output_nodes, self.hidden_nodes))\n",
        "        pass\n",
        "\n",
        "\n",
        "    # محاسبه خروجی شبکه با دادن ورودی - پیش خور\n",
        "    def query(self, input_list):\n",
        "        # تبدیل لیست مقادیر ورودی به آرایه دوبعدی\n",
        "        inputs = np.array(input_list, ndmin=2).T\n",
        "\n",
        "        # محاسبه سیگنال ورودی و سپس خروجی لایه مخفی\n",
        "        x_hidden = np.dot(self.w_i_h, inputs)\n",
        "        o_hidden = self.activation_function(x_hidden)\n",
        "\n",
        "        # محاسبه سیگنال ورودی و سپس خروجی لایه خروجی\n",
        "        x_output = np.dot(self.w_h_o, o_hidden)\n",
        "        o_output = self.activation_function(x_output)\n",
        "\n",
        "        return o_output\n",
        "\n",
        "\n",
        "    # یادگیری شبکه بر اساس یک نمونه ورودی/خروجی - پس انتشار\n",
        "    def train(self, input_list, targets_list):\n",
        "        # محاسبه سیگنال‌های ورودی و خروجی لایه‌ها\n",
        "        inputs = np.array(input_list, ndmin=2).T\n",
        "\n",
        "        x_hidden = np.dot(self.w_i_h, inputs)\n",
        "        o_hidden = self.activation_function(x_hidden)\n",
        "\n",
        "        x_output = np.dot(self.w_h_o, o_hidden)\n",
        "        o_output = self.activation_function(x_output)\n",
        "\n",
        "        #محاسبه خطای شبکه بر اساس اختلاف خروجی با هدف‌ها\n",
        "        targets = np.array(targets_list, ndmin=2).T\n",
        "        output_errors = targets - o_output\n",
        "        #پس انتشار خطای شبکه روی نورون‌های لایه مخفی\n",
        "        hidden_errors = np.dot(self.w_h_o.T, output_errors)\n",
        "\n",
        "        # محاسبه وزن‌های جدید اتصال‌ها با گرادیان کاهشی\n",
        "        self.w_h_o += self.learning_rate * np.dot((output_errors * o_output * (1-o_output)), o_hidden.T)\n",
        "        self.w_i_h += self.learning_rate * np.dot((hidden_errors * o_hidden * (1-o_hidden)), inputs.T)\n",
        "        \n",
        "        \n"
      ],
      "execution_count": 1,
      "outputs": []
    },
    {
      "cell_type": "markdown",
      "metadata": {
        "id": "vUm3xWxwwAMP"
      },
      "source": [
        "# Neural Network Instance Creation"
      ]
    },
    {
      "cell_type": "code",
      "source": [
        "# فراخوانی داده‌های آموزش از دیتاست امنیست\n",
        "from google.colab import drive\n",
        "drive.mount('/content/drive')\n",
        "train_file= open('/content/drive/MyDrive/mnist/mnist_train.csv', 'r')\n",
        "train_list = train_file.readlines()\n",
        "train_file.close()\n",
        "\n",
        "# فراخوانی داده‌های آزمایش از دیتاست امنیست\n",
        "test_file= open('/content/drive/MyDrive/mnist/mnist_test.csv', 'r')\n",
        "test_list = test_file.readlines()\n",
        "test_file.close()"
      ],
      "metadata": {
        "id": "JgqwjWgBppRd",
        "colab": {
          "base_uri": "https://localhost:8080/"
        },
        "outputId": "fe9306a3-f24e-4c79-d23f-fc625035a6f1"
      },
      "execution_count": 2,
      "outputs": [
        {
          "output_type": "stream",
          "name": "stdout",
          "text": [
            "Mounted at /content/drive\n"
          ]
        }
      ]
    },
    {
      "cell_type": "code",
      "metadata": {
        "id": "nezWXnH1wEAg"
      },
      "source": [
        "# تعیین تعداد نورون‌ها در هر لایه\n",
        "input_nodes = 784\n",
        "hidden_nodes = 200\n",
        "output_nodes = 10\n",
        "\n",
        "# تعیین نرخ یادگیری شبکه\n",
        "learning_rate = 0.1\n",
        "\n",
        "# تعیین تعداد دوره یادگیری: تکرار یادگیری با تمام دیتاست را یک دوره گوییم\n",
        "epochs = 4\n",
        "\n",
        "# ساخت نمونه از شبکه عصبی با معماری بالا\n",
        "nn = NeuralNetwork(input_nodes=input_nodes,\n",
        "                   hidden_nodes=hidden_nodes, output_nodes= output_nodes, \n",
        "                   learning_rate=learning_rate)\n",
        "# print(\"initial weights (W_input_hidden): \", nn.w_i_h)\n",
        "\n",
        "# آموزش شبکه ساخته شده با داده‌های آموزشی امنیست \n",
        "for e in range (epochs):\n",
        "    for row in train_list:\n",
        "        row_data = row.split(',')\n",
        "        inputs = (np.asfarray(row_data[1:]) / (255.0 * 0.99)) + 0.01\n",
        "        targets = np.zeros(output_nodes) + 0.01\n",
        "        targets[int(row_data[0])] = 0.99\n",
        "        nn.train(inputs, targets)\n",
        "    # print(\"\\n\\nweights (W_input_hidden) after a round of training: \", nn.w_i_h)\n"
      ],
      "execution_count": 3,
      "outputs": []
    },
    {
      "cell_type": "code",
      "source": [
        "# آزمایش شبکه ساخته شده با یکی از داده‌های مجموعه آزمایشی \n",
        "\n",
        "# انتخاب یکی از داده‌ها و نمایش نام و تصویر آن\n",
        "test_row_data = test_list[0].split(',')\n",
        "print(\"Taget number is: \", test_row_data[0])\n",
        "image_data = np.asfarray(test_row_data[1:]).reshape((28,28))\n",
        "image = plt.imshow(image_data, cmap='Greys')\n",
        "\n",
        "# بررسی پیش بینی شبکه از داده انتخاب شده\n",
        "nn.query((np.asfarray(test_row_data[1:]) / (255.0 * 0.99)) + 0.01)"
      ],
      "metadata": {
        "id": "ydcjjCtuJz26",
        "colab": {
          "base_uri": "https://localhost:8080/",
          "height": 456
        },
        "outputId": "c033106c-8467-4f9e-caf8-5dd0facf3de6"
      },
      "execution_count": 4,
      "outputs": [
        {
          "output_type": "stream",
          "name": "stdout",
          "text": [
            "Taget number is:  7\n"
          ]
        },
        {
          "output_type": "execute_result",
          "data": {
            "text/plain": [
              "array([[1.77897647e-02],\n",
              "       [5.62104522e-03],\n",
              "       [1.20415925e-02],\n",
              "       [2.03236354e-02],\n",
              "       [8.47669144e-04],\n",
              "       [9.56366719e-03],\n",
              "       [1.41614747e-02],\n",
              "       [9.78323358e-01],\n",
              "       [2.30247463e-02],\n",
              "       [4.61591705e-03]])"
            ]
          },
          "metadata": {},
          "execution_count": 4
        },
        {
          "output_type": "display_data",
          "data": {
            "image/png": "[encoded data removed]",
            "text/plain": [
              "<Figure size 432x288 with 1 Axes>"
            ]
          },
          "metadata": {
            "needs_background": "light"
          }
        }
      ]
    },
    {
      "cell_type": "code",
      "source": [
        "# آزمایش عملکرد شبکه به لحاظ پیش بینی همه داده‌های آزمایشی\n",
        "score_card = []\n",
        "for row in test_list:\n",
        "    row_data = row.split(',')\n",
        "    target_number = int(row_data[0])\n",
        "    inputs = (np.asfarray(row_data[1:]) / 255 * 0.99) + 0.01 \n",
        "    outputs = nn.query(inputs)\n",
        "    predicted_number = np.argmax(outputs)\n",
        "    # print(\"\\nTarget Number: \", target_number)\n",
        "    # print(\"Predicted Number: \", predicted_number)\n",
        "    if(target_number == predicted_number):\n",
        "        score_card.append(1)\n",
        "    else:\n",
        "        score_card.append(0)\n",
        "\n",
        "# گزارش عملکرد شبکه\n",
        "# print(\"\\n\\nNet Score Card: \",score_card) \n",
        "score_card_array = np.asarray(score_card)\n",
        "print(\"\\nNet Performance: \", score_card_array.sum() / score_card_array.size)"
      ],
      "metadata": {
        "id": "BpQHwsQlY5lj",
        "colab": {
          "base_uri": "https://localhost:8080/"
        },
        "outputId": "3ad0c585-5e9a-48c8-a565-7068306b4ed9"
      },
      "execution_count": 5,
      "outputs": [
        {
          "output_type": "stream",
          "name": "stdout",
          "text": [
            "\n",
            "Net Performance:  0.9734\n"
          ]
        }
      ]
    },
    {
      "cell_type": "code",
      "source": [
        "# بهینه یابی نرخ یادگیری \n",
        "tested_learning_rate = [0.01, 0.1, 0.2, 0.3, 0.6]\n",
        "performance_list = [ 0.9125, 0.9475,  0.9474, 0.9416, 0.8936]\n",
        "fig, ax = plt.subplots()  \n",
        "ax.plot(tested_learning_rate, performance_list, \n",
        "        linestyle='--', marker='o')\n",
        "ax.set_xlabel('learning rate')  \n",
        "ax.set_ylabel('performance')  \n",
        "ax.set_title(\"3-Layer NN For MNIST Handwritten Digits Classification\")\n",
        "# نرخ یادگیری ۰.۱ انتخاب شد"
      ],
      "metadata": {
        "id": "lIV7L6rGBhHn",
        "colab": {
          "base_uri": "https://localhost:8080/",
          "height": 312
        },
        "outputId": "80919e79-f429-4eb7-fea9-bc61108afa26"
      },
      "execution_count": 6,
      "outputs": [
        {
          "output_type": "execute_result",
          "data": {
            "text/plain": [
              "Text(0.5, 1.0, '3-Layer NN For MNIST Handwritten Digits Classification')"
            ]
          },
          "metadata": {},
          "execution_count": 6
        },
        {
          "output_type": "display_data",
          "data": {
            "image/png": "[encoded data removed]",
            "text/plain": [
              "<Figure size 432x288 with 1 Axes>"
            ]
          },
          "metadata": {
            "needs_background": "light"
          }
        }
      ]
    },
    {
      "cell_type": "code",
      "source": [
        "# بهینه یابی تعداد دوره یادگیری\n",
        "epoch_list = [1, 2, 3, 4, 5, 7, 10, 20]\n",
        "performance_list = [0.9475, 0.9621, 0.9653, 0.9663, 0.9631, 0.9648, 0.9623, 0.9628]\n",
        "fig, ax = plt.subplots()  \n",
        "ax.plot(epoch_list, performance_list, \n",
        "        linestyle='--', marker='s')\n",
        "ax.set_xlabel('number of epachs')  \n",
        "ax.set_ylabel('performance')  \n",
        "ax.set_title(\"3-Layer NN For MNIST Handwritten Digits Classification\")\n",
        "# تعداد دوره ۴ انتخاب شد. البته می‌توان با نرخ یادگیری کمتر مثل ۰.۰۷ هم تعداد دوره‌ها را بررسی کرد.  \n",
        "# هر چه تعداد دوره‌ها بیشتر شود نرخ یادگیری باید کمی کمتر انتخاب شود."
      ],
      "metadata": {
        "id": "oe-IutPz2OQf",
        "colab": {
          "base_uri": "https://localhost:8080/",
          "height": 312
        },
        "outputId": "84944616-1510-4620-9882-886fb94ac93c"
      },
      "execution_count": 7,
      "outputs": [
        {
          "output_type": "execute_result",
          "data": {
            "text/plain": [
              "Text(0.5, 1.0, '3-Layer NN For MNIST Handwritten Digits Classification')"
            ]
          },
          "metadata": {},
          "execution_count": 7
        },
        {
          "output_type": "display_data",
          "data": {
            "image/png": "[encoded data removed]",
            "text/plain": [
              "<Figure size 432x288 with 1 Axes>"
            ]
          },
          "metadata": {
            "needs_background": "light"
          }
        }
      ]
    },
    {
      "cell_type": "code",
      "source": [
        "# بهینه یابی تعداد نورون‌های لایه مخفی\n",
        "h_nodes_list = [10, 100, 200, 500, 1000, 5000]\n",
        "performance_list = [0.8973, 0.9663, 0.9734, 0.9742, 0.9758, 0.9768]\n",
        "fig, ax = plt.subplots()  \n",
        "ax.plot(h_nodes_list, performance_list, \n",
        "        linestyle='--', marker='s')\n",
        "ax.set_xlabel('number of hidden nodes')  \n",
        "ax.set_ylabel('performance')  \n",
        "ax.set_title(\"3-Layer NN For MNIST Handwritten Digits Classification\")\n",
        "# تعداد نورون‌های لایه مخفی با توجه با در نظر گرفتن تعادل عملکرد و سرعت اجرا، ۲۰۰ انتخاب شد."
      ],
      "metadata": {
        "id": "_zWwbLAigcOp",
        "colab": {
          "base_uri": "https://localhost:8080/",
          "height": 312
        },
        "outputId": "35102cb9-4476-4fc9-c32a-2ee06b4510b1"
      },
      "execution_count": 9,
      "outputs": [
        {
          "output_type": "execute_result",
          "data": {
            "text/plain": [
              "Text(0.5, 1.0, '3-Layer NN For MNIST Handwritten Digits Classification')"
            ]
          },
          "metadata": {},
          "execution_count": 9
        },
        {
          "output_type": "display_data",
          "data": {
            "image/png": "[encoded data removed]",
            "text/plain": [
              "<Figure size 432x288 with 1 Axes>"
            ]
          },
          "metadata": {
            "needs_background": "light"
          }
        }
      ]
    }
  ]
}