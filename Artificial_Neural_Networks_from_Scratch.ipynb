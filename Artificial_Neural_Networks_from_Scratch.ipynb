{
  "nbformat": 4,
  "nbformat_minor": 0,
  "metadata": {
    "colab": {
      "name": "Artificial-Neural-Networks-from-Scratch.ipynb",
      "provenance": [],
      "collapsed_sections": [
        "I7kGy9IxRlIl"
      ],
      "authorship_tag": "ABX9TyN9OlEA9X5QicKz0U4iLvHD",
      "include_colab_link": true
    },
    "kernelspec": {
      "name": "python3",
      "display_name": "Python 3"
    },
    "language_info": {
      "name": "python"
    }
  },
  "cells": [
    {
      "cell_type": "markdown",
      "metadata": {
        "id": "view-in-github",
        "colab_type": "text"
      },
      "source": [
        "<a href=\"https://colab.research.google.com/github/mostafa-asefy/neural-networks-from-zero/blob/main/Artificial_Neural_Networks_from_Scratch.ipynb\" target=\"_parent\"><img src=\"https://colab.research.google.com/assets/colab-badge.svg\" alt=\"Open In Colab\"/></a>"
      ]
    },
    {
      "cell_type": "markdown",
      "metadata": {
        "id": "I7kGy9IxRlIl"
      },
      "source": [
        "# Neural Network Class Definition"
      ]
    },
    {
      "cell_type": "code",
      "metadata": {
        "id": "-K47Tsf-RzFI"
      },
      "source": [
        "import numpy as np\n",
        "from scipy.special import expit\n",
        "import matplotlib.pyplot as plt\n",
        "\n",
        "\n",
        "class NeuralNetwork:\n",
        "\n",
        "    # راه اندازی شبکه عصبی \n",
        "    def __init__(self, input_nodes, hidden_nodes, output_nodes, learning_rate):\n",
        "        # تعیین تعداد نورون‌های لایه‌های مختلف\n",
        "        self.input_nodes = input_nodes\n",
        "        self.hidden_nodes = hidden_nodes\n",
        "        self.output_nodes = output_nodes\n",
        "\n",
        "        # تعیین نرخ یادگیری\n",
        "        self.learning_rate = learning_rate\n",
        "        \n",
        "        # ایجاد تابع فعال سازی که اینجا سیگموییدی است ولی می تواند متفاوت باشد\n",
        "        self.activation_function = lambda x : expit(x)\n",
        "\n",
        "        # ایجاد دو ماتریس وزن‌های اولیه\n",
        "        # یکی برای وزن‌های بین لایه ورودی و مخفی و یکی برای وزن‌های بین لایه مخفی و خروجی \n",
        "        # هر وزن با ایندکس آی و جی، وزن اتصال بین نورون آی از لایه مبدا به نورون جی در لایه مقصد است.\n",
        "        #  و به همین ترتیب w12 w21 مثلا\n",
        "        self.w_i_h = np.random.default_rng().normal(0, pow(self.input_nodes, -0.5),\n",
        "                                                    (self.hidden_nodes, self.input_nodes))\n",
        "        self.w_h_o = np.random.default_rng().normal(0, pow(self.hidden_nodes, -0.5),\n",
        "                                                    (self.output_nodes, self.hidden_nodes))\n",
        "        pass\n",
        "\n",
        "\n",
        "    # محاسبه خروجی شبکه با دادن ورودی - پیش خور\n",
        "    def query(self, input_list):\n",
        "        # تبدیل لیست مقادیر ورودی به آرایه دوبعدی\n",
        "        inputs = np.array(input_list, ndmin=2).T\n",
        "\n",
        "        # محاسبه سیگنال ورودی و سپس خروجی لایه مخفی\n",
        "        x_hidden = np.dot(self.w_i_h, inputs)\n",
        "        o_hidden = self.activation_function(x_hidden)\n",
        "\n",
        "        # محاسبه سیگنال ورودی و سپس خروجی لایه خروجی\n",
        "        x_output = np.dot(self.w_h_o, o_hidden)\n",
        "        o_output = self.activation_function(x_output)\n",
        "\n",
        "        return o_output\n",
        "\n",
        "\n",
        "    # یادگیری شبکه بر اساس یک نمونه ورودی/خروجی - پس انتشار\n",
        "    def train(self, input_list, targets_list):\n",
        "        # محاسبه سیگنال‌های ورودی و خروجی لایه‌ها\n",
        "        inputs = np.array(input_list, ndmin=2).T\n",
        "\n",
        "        x_hidden = np.dot(self.w_i_h, inputs)\n",
        "        o_hidden = self.activation_function(x_hidden)\n",
        "\n",
        "        x_output = np.dot(self.w_h_o, o_hidden)\n",
        "        o_output = self.activation_function(x_output)\n",
        "\n",
        "        #محاسبه خطای شبکه بر اساس اختلاف خروجی با هدف‌ها\n",
        "        targets = np.array(targets_list, ndmin=2).T\n",
        "        output_errors = targets - o_output\n",
        "        #پس انتشار خطای شبکه روی نورون‌های لایه مخفی\n",
        "        hidden_errors = np.dot(self.w_h_o.T, output_errors)\n",
        "\n",
        "        # محاسبه وزن‌های جدید اتصال‌ها با گرادیان کاهشی\n",
        "        self.w_h_o += self.learning_rate * np.dot((output_errors * o_output * (1-o_output)), o_hidden.T)\n",
        "        self.w_i_h += self.learning_rate * np.dot((hidden_errors * o_hidden * (1-o_hidden)), inputs.T)\n",
        "        \n",
        "        \n"
      ],
      "execution_count": 30,
      "outputs": []
    },
    {
      "cell_type": "markdown",
      "metadata": {
        "id": "vUm3xWxwwAMP"
      },
      "source": [
        "# Neural Network Instance Creation"
      ]
    },
    {
      "cell_type": "code",
      "source": [
        "# فراخوانی داده‌های آموزش از دیتاست امنیست\n",
        "from google.colab import drive\n",
        "drive.mount('/content/drive')\n",
        "train_file= open('/content/drive/MyDrive/mnist/mnist_train_100.csv', 'r')\n",
        "train_list = train_file.readlines()\n",
        "train_file.close()\n",
        "\n",
        "# فراخوانی داده‌های آزمایش از دیتاست امنیست\n",
        "test_file= open('/content/drive/MyDrive/mnist/mnist_test_10.csv', 'r')\n",
        "test_list = test_file.readlines()\n",
        "test_file.close()"
      ],
      "metadata": {
        "id": "JgqwjWgBppRd",
        "colab": {
          "base_uri": "https://localhost:8080/"
        },
        "outputId": "f3bf8e07-dfea-4427-eb41-7b43900c5348"
      },
      "execution_count": 21,
      "outputs": [
        {
          "output_type": "stream",
          "name": "stdout",
          "text": [
            "Drive already mounted at /content/drive; to attempt to forcibly remount, call drive.mount(\"/content/drive\", force_remount=True).\n"
          ]
        }
      ]
    },
    {
      "cell_type": "code",
      "metadata": {
        "id": "nezWXnH1wEAg"
      },
      "source": [
        "# تعیین تعداد نورون‌ها در هر لایه\n",
        "input_nodes = 784\n",
        "hidden_nodes = 100\n",
        "output_nodes = 10\n",
        "\n",
        "# تعیین نرخ یادگیری شبکه\n",
        "learning_rate = 0.3 \n",
        "\n",
        "# ساخت نمونه از شبکه عصبی با معماری بالا\n",
        "nn = NeuralNetwork(input_nodes=input_nodes,\n",
        "                   hidden_nodes=hidden_nodes, output_nodes= output_nodes, \n",
        "                   learning_rate=learning_rate)\n",
        "# print(\"initial weights (W_input_hidden): \", nn.w_i_h)\n",
        "\n",
        "# آموزش شبکه ساخته شده با داده‌های آموزشی امنیست \n",
        "for row in train_list: \n",
        "   row_data = row.split(',') \n",
        "   inputs = (np.asfarray(row_data[1:]) / (255.0 * 0.99)) + 0.01\n",
        "   targets = np.zeros(output_nodes) + 0.01\n",
        "   targets[int(row_data[0])] = 0.99\n",
        "   nn.train(inputs, targets)\n",
        "# print(\"\\n\\nweights (W_input_hidden) after a round of training: \", nn.w_i_h)\n"
      ],
      "execution_count": 31,
      "outputs": []
    },
    {
      "cell_type": "code",
      "source": [
        "# آزمایش شبکه ساخته شده با یکی از داده‌های مجموعه آزمایشی \n",
        "\n",
        "# انتخاب یکی از داده‌ها و نمایش نام و تصویر آن\n",
        "test_row_data = test_list[0].split(',')\n",
        "print(\"Taget number is: \", test_row_data[0])\n",
        "image_data = np.asfarray(test_row_data[1:]).reshape((28,28))\n",
        "image = plt.imshow(image_data, cmap='Greys')\n",
        "\n",
        "# بررسی پیش بینی شبکه از داده انتخاب شده\n",
        "nn.query((np.asfarray(test_row_data[1:]) / (255.0 * 0.99)) + 0.01)"
      ],
      "metadata": {
        "colab": {
          "base_uri": "https://localhost:8080/",
          "height": 456
        },
        "id": "ydcjjCtuJz26",
        "outputId": "cfe915db-c7b2-4cc4-a83e-6fd8b4ef0c1d"
      },
      "execution_count": 32,
      "outputs": [
        {
          "output_type": "stream",
          "name": "stdout",
          "text": [
            "Taget number is:  7\n"
          ]
        },
        {
          "output_type": "execute_result",
          "data": {
            "text/plain": [
              "array([[0.13414528],\n",
              "       [0.14297912],\n",
              "       [0.04621692],\n",
              "       [0.20750338],\n",
              "       [0.16499409],\n",
              "       [0.04407173],\n",
              "       [0.0372503 ],\n",
              "       [0.3894807 ],\n",
              "       [0.12213798],\n",
              "       [0.08470759]])"
            ]
          },
          "metadata": {},
          "execution_count": 32
        },
        {
          "output_type": "display_data",
          "data": {
            "image/png": "[encoded data removed]",
            "text/plain": [
              "<Figure size 432x288 with 1 Axes>"
            ]
          },
          "metadata": {
            "needs_background": "light"
          }
        }
      ]
    },
    {
      "cell_type": "code",
      "source": [
        "# آزمایش عملکرد شبکه به لحاظ پیش بینی همه داده‌های آزمایشی\n",
        "score_card = []\n",
        "for row in test_list:\n",
        "    row_data = row.split(',')\n",
        "    target_number = int(row_data[0])\n",
        "    inputs = (np.asfarray(row_data[1:]) / 255 * 0.99) + 0.01 \n",
        "    outputs = nn.query(inputs)\n",
        "    predicted_number = np.argmax(outputs)\n",
        "    print(\"\\nTarget Number: \", target_number)\n",
        "    print(\"Predicted Number: \", predicted_number)\n",
        "    if(target_number == predicted_number):\n",
        "        score_card.append(1)\n",
        "    else:\n",
        "        score_card.append(0)\n",
        "\n",
        "# گزارش عملکرد شبکه\n",
        "print(\"\\n\\nNet Score Card: \",score_card)\n",
        "score_card_array = np.asarray(score_card)\n",
        "print(\"\\Net Performance: \", score_card_array.sum() / score_card_array.size)"
      ],
      "metadata": {
        "colab": {
          "base_uri": "https://localhost:8080/"
        },
        "id": "BpQHwsQlY5lj",
        "outputId": "5f7d7ced-ef92-47ae-e049-fc493baecd8c"
      },
      "execution_count": 38,
      "outputs": [
        {
          "output_type": "stream",
          "name": "stdout",
          "text": [
            "\n",
            "Target Number:  7\n",
            "Predicted Number:  7\n",
            "\n",
            "Target Number:  2\n",
            "Predicted Number:  3\n",
            "\n",
            "Target Number:  1\n",
            "Predicted Number:  1\n",
            "\n",
            "Target Number:  0\n",
            "Predicted Number:  0\n",
            "\n",
            "Target Number:  4\n",
            "Predicted Number:  4\n",
            "\n",
            "Target Number:  1\n",
            "Predicted Number:  1\n",
            "\n",
            "Target Number:  4\n",
            "Predicted Number:  4\n",
            "\n",
            "Target Number:  9\n",
            "Predicted Number:  3\n",
            "\n",
            "Target Number:  5\n",
            "Predicted Number:  1\n",
            "\n",
            "Target Number:  9\n",
            "Predicted Number:  7\n",
            "\n",
            "\n",
            "Total Score Card:  [1, 0, 1, 1, 1, 1, 1, 0, 0, 0]\n",
            "\n",
            "Total Performance:  0.6\n"
          ]
        }
      ]
    }
  ]
}