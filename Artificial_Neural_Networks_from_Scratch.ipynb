{
  "nbformat": 4,
  "nbformat_minor": 0,
  "metadata": {
    "colab": {
      "name": "Artificial-Neural-Networks-from-Scratch.ipynb",
      "provenance": [],
      "collapsed_sections": [
        "vUm3xWxwwAMP"
      ],
      "authorship_tag": "ABX9TyOi3X7VlW+R0s2qHdJgZ92d",
      "include_colab_link": true
    },
    "kernelspec": {
      "name": "python3",
      "display_name": "Python 3"
    },
    "language_info": {
      "name": "python"
    }
  },
  "cells": [
    {
      "cell_type": "markdown",
      "metadata": {
        "id": "view-in-github",
        "colab_type": "text"
      },
      "source": [
        "<a href=\"https://colab.research.google.com/github/mostafa-asefy/neural-networks-from-zero/blob/main/Artificial_Neural_Networks_from_Scratch.ipynb\" target=\"_parent\"><img src=\"https://colab.research.google.com/assets/colab-badge.svg\" alt=\"Open In Colab\"/></a>"
      ]
    },
    {
      "cell_type": "markdown",
      "metadata": {
        "id": "I7kGy9IxRlIl"
      },
      "source": [
        "# Neural Network Class Definition"
      ]
    },
    {
      "cell_type": "code",
      "metadata": {
        "id": "-K47Tsf-RzFI"
      },
      "source": [
        "import numpy as np\n",
        "from scipy.special import expit\n",
        "\n",
        "\n",
        "class NeuralNetwork:\n",
        "\n",
        "    # راه اندازی شبکه عصبی \n",
        "    def __init__(self, input_nodes, hidden_nodes, output_nodes, learning_rate):\n",
        "        # تعیین تعداد نورون‌های لایه‌های مختلف\n",
        "        self.input_nodes = input_nodes\n",
        "        self.hidden_nodes = hidden_nodes\n",
        "        self.output_nodes = output_nodes\n",
        "\n",
        "        # تعیین نرخ یادگیری\n",
        "        self.learning_rate = learning_rate\n",
        "        \n",
        "        # ایجاد تابع فعال سازی که اینجا سیگموییدی است ولی می تواند متفاوت باشد\n",
        "        self.activation_function = lambda x : expit(x)\n",
        "\n",
        "        # ایجاد دو ماتریس وزن‌های اولیه\n",
        "        # یکی برای وزن‌های بین لایه ورودی و مخفی و یکی برای وزن‌های بین لایه مخفی و خروجی \n",
        "        # هر وزن با ایندکس آی و جی، وزن اتصال بین نورون آی از لایه مبدا به نورون جی در لایه مقصد است.\n",
        "        #  و به همین ترتیب w12 w21 مثلا\n",
        "        self.w_i_h = np.random.default_rng().normal(0, pow(self.input_nodes, -0.5),\n",
        "                                                    (self.hidden_nodes, self.input_nodes))\n",
        "        self.w_h_o = np.random.default_rng().normal(0, pow(self.hidden_nodes, -0.5),\n",
        "                                                    (self.output_nodes, self.hidden_nodes))\n",
        "        pass\n",
        "\n",
        "\n",
        "    # محاسبه خروجی شبکه با دادن ورودی - پیش خور\n",
        "    def query(self, input_list):\n",
        "        # تبدیل لیست مقادیر ورودی به آرایه دوبعدی\n",
        "        inputs = np.array(input_list, ndmin=2).T\n",
        "\n",
        "        # محاسبه سیگنال ورودی و سپس خروجی لایه مخفی\n",
        "        x_hidden = np.dot(self.w_i_h, inputs)\n",
        "        o_hidden = self.activation_function(x_hidden)\n",
        "\n",
        "        # محاسبه سیگنال ورودی و سپس خروجی لایه خروجی\n",
        "        x_output = np.dot(self.w_h_o, o_hidden)\n",
        "        o_output = self.activation_function(x_output)\n",
        "\n",
        "        return o_output\n",
        "\n",
        "\n",
        "    # یادگیری شبکه بر اساس یک نمونه ورودی/خروجی - پس انتشار\n",
        "    def train(self, input_list, targets_list):\n",
        "        # محاسبه خروجی شبکه به ازای نمونه ورودی\n",
        "        outputs = self.query(input_list)\n",
        "        # تبدیل هدف ها به آرایه دو بعدی\n",
        "        targets = np.array(targets_list, ndmin=2).T\n",
        "        # محاسبه خطای خروجی شبکه بر اساس اختلافی که با هدف ها دارد\n",
        "        output_errors = targets = outputs\n",
        "        # پس انتشار خطای نورون‌های خروجی به نورون‌های لایه مخفی\n",
        "        hidden_errors = np.dot(self.w_h_o.T, output_errors)\n",
        "\n",
        "\n",
        "\n"
      ],
      "execution_count": 14,
      "outputs": []
    },
    {
      "cell_type": "markdown",
      "metadata": {
        "id": "vUm3xWxwwAMP"
      },
      "source": [
        "# Neural Network Instance Creation"
      ]
    },
    {
      "cell_type": "code",
      "metadata": {
        "id": "nezWXnH1wEAg"
      },
      "source": [
        "nn = NeuralNetwork(3, 3, 3, 0.3)\n",
        "print(nn.w_i_h)\n",
        "nn.query([1.0, 0.5, -1.5])"
      ],
      "execution_count": null,
      "outputs": []
    }
  ]
}